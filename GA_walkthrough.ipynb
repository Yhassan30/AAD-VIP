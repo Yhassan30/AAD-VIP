{
 "cells": [
  {
   "cell_type": "code",
   "execution_count": 1,
   "id": "7c0a36d1",
   "metadata": {
    "scrolled": false
   },
   "outputs": [
    {
     "name": "stdout",
     "output_type": "stream",
     "text": [
      "Collecting deap\n",
      "  Downloading deap-1.3.1-cp39-cp39-win_amd64.whl (108 kB)\n",
      "Requirement already satisfied: numpy in c:\\users\\yahya\\anaconda3\\lib\\site-packages (from deap) (1.20.3)\n",
      "Installing collected packages: deap\n",
      "Successfully installed deap-1.3.1\n",
      "Note: you may need to restart the kernel to use updated packages.\n"
     ]
    }
   ],
   "source": [
    "pip install deap"
   ]
  },
  {
   "cell_type": "code",
   "execution_count": 3,
   "id": "d2fd00eb",
   "metadata": {},
   "outputs": [],
   "source": [
    "from deap import base, creator, tools"
   ]
  },
  {
   "cell_type": "code",
   "execution_count": 4,
   "id": "2db0cdad",
   "metadata": {},
   "outputs": [],
   "source": [
    "creator.create('FitnessMax', base.Fitness, weights = (1.0,))"
   ]
  },
  {
   "cell_type": "code",
   "execution_count": 6,
   "id": "b514c7e2",
   "metadata": {},
   "outputs": [
    {
     "name": "stderr",
     "output_type": "stream",
     "text": [
      "C:\\Users\\yahya\\anaconda3\\lib\\site-packages\\deap\\creator.py:138: RuntimeWarning: A class named 'Individual' has already been created and it will be overwritten. Consider deleting previous creation of that class or rename it.\n",
      "  warnings.warn(\"A class named '{0}' has already been created and it \"\n"
     ]
    }
   ],
   "source": [
    "creator.create('Individual', list, fitness=creator.FitnessMax)"
   ]
  },
  {
   "cell_type": "code",
   "execution_count": 7,
   "id": "a39d0f26",
   "metadata": {},
   "outputs": [],
   "source": [
    "toolbox = base.Toolbox()"
   ]
  },
  {
   "cell_type": "code",
   "execution_count": 8,
   "id": "b156d276",
   "metadata": {},
   "outputs": [],
   "source": [
    "import random\n",
    "toolbox.register('attr_bool', random.randint, 0, 1)"
   ]
  },
  {
   "cell_type": "code",
   "execution_count": 11,
   "id": "f8957cb1",
   "metadata": {},
   "outputs": [
    {
     "data": {
      "text/plain": [
       "0"
      ]
     },
     "execution_count": 11,
     "metadata": {},
     "output_type": "execute_result"
    }
   ],
   "source": [
    "toolbox.attr_bool()"
   ]
  },
  {
   "cell_type": "code",
   "execution_count": 14,
   "id": "e34edbf0",
   "metadata": {},
   "outputs": [],
   "source": [
    "toolbox.register('individual', tools.initRepeat, creator.Individual, toolbox.attr_bool, 100)"
   ]
  },
  {
   "cell_type": "code",
   "execution_count": 15,
   "id": "19f1059a",
   "metadata": {},
   "outputs": [
    {
     "name": "stdout",
     "output_type": "stream",
     "text": [
      "Individual 1 is: [1, 1, 0, 0, 1, 1, 1, 0, 1, 0, 1, 0, 1, 1, 1, 1, 0, 1, 1, 0, 1, 1, 1, 1, 1, 0, 1, 1, 0, 0, 0, 0, 0, 0, 1, 1, 1, 0, 0, 1, 0, 0, 1, 1, 0, 1, 1, 1, 0, 1, 0, 1, 0, 0, 0, 0, 0, 1, 0, 1, 1, 1, 1, 0, 0, 0, 1, 0, 0, 1, 1, 0, 0, 0, 0, 0, 0, 0, 0, 1, 1, 0, 1, 1, 1, 1, 0, 0, 1, 1, 0, 1, 0, 1, 1, 1, 0, 1, 1, 0] With length: 100\n"
     ]
    }
   ],
   "source": [
    "my_individual_1 = toolbox.individual()\n",
    "print('Individual 1 is:', my_individual_1, 'With length:', len(my_individual_1))"
   ]
  },
  {
   "cell_type": "code",
   "execution_count": 16,
   "id": "8f2cd615",
   "metadata": {},
   "outputs": [],
   "source": [
    "toolbox.register('population', tools.initRepeat, list, toolbox.individual)\n"
   ]
  },
  {
   "cell_type": "code",
   "execution_count": 17,
   "id": "a7e4e9dd",
   "metadata": {},
   "outputs": [
    {
     "name": "stdout",
     "output_type": "stream",
     "text": [
      "Individual 1 is: [1, 1, 1, 0, 0, 0, 0, 1, 1, 0, 0, 0, 0, 0, 1, 1, 1, 1, 1, 1, 1, 0, 1, 0, 0, 0, 0, 0, 0, 1, 0, 1, 1, 0, 1, 0, 0, 1, 1, 0, 0, 1, 1, 0, 1, 0, 1, 1, 1, 1, 0, 1, 1, 1, 0, 1, 0, 1, 1, 0, 1, 0, 0, 1, 1, 1, 1, 1, 1, 0, 1, 0, 1, 1, 0, 1, 0, 0, 0, 0, 0, 0, 1, 0, 1, 1, 0, 1, 0, 0, 0, 0, 1, 0, 0, 0, 0, 1, 0, 1] With length: 100\n",
      "Individual 2 is: [1, 0, 0, 0, 1, 1, 1, 1, 1, 1, 0, 0, 0, 1, 1, 0, 1, 0, 0, 0, 0, 1, 0, 1, 0, 1, 1, 1, 0, 1, 1, 0, 1, 0, 1, 0, 0, 1, 0, 1, 0, 0, 1, 0, 0, 1, 1, 1, 1, 1, 1, 0, 1, 1, 0, 1, 1, 1, 0, 1, 0, 0, 0, 0, 0, 0, 0, 1, 1, 0, 0, 0, 0, 0, 1, 1, 0, 1, 1, 1, 1, 1, 1, 1, 1, 1, 0, 1, 1, 1, 0, 1, 0, 0, 0, 0, 0, 1, 1, 0] With length: 100\n"
     ]
    }
   ],
   "source": [
    "# Create a population of 2 individuals\n",
    "population_1 = toolbox.population(2)\n",
    "# Print individual 1 (0, 0-indexed)\n",
    "print('Individual 1 is:', population_1[0], 'With length:', len(population_1[0]))\n",
    "# Print individual 2 (1, 0-indexed)\n",
    "print('Individual 2 is:', population_1[1], 'With length:', len(population_1[1]))"
   ]
  },
  {
   "cell_type": "code",
   "execution_count": 18,
   "id": "e0e49dca",
   "metadata": {},
   "outputs": [],
   "source": [
    "\n",
    "def evalOneMax(individual):\n",
    "    individual.fitness.values = (sum(individual), )\n",
    "    return individual.fitness.values"
   ]
  },
  {
   "cell_type": "code",
   "execution_count": 19,
   "id": "2d758cdb",
   "metadata": {},
   "outputs": [
    {
     "name": "stdout",
     "output_type": "stream",
     "text": [
      "(50.0,)\n",
      "(53.0,)\n",
      "(50.0,)\n",
      "(53.0,)\n"
     ]
    }
   ],
   "source": [
    "print(evalOneMax(population_1[0]))\n",
    "print(evalOneMax(population_1[1]))\n",
    "print(population_1[0].fitness.values)\n",
    "print(population_1[1].fitness.values)"
   ]
  },
  {
   "cell_type": "code",
   "execution_count": 24,
   "id": "e096f27b",
   "metadata": {},
   "outputs": [
    {
     "name": "stdout",
     "output_type": "stream",
     "text": [
      "Child 1: [1, 1, 1, 0, 0, 0, 0, 1, 1, 0, 0, 0, 0, 0, 1, 1, 1, 1, 1, 1, 1, 0, 1, 0, 0, 0, 0, 0, 0, 1, 0, 1, 1, 0, 1, 0, 0, 1, 1, 0, 0, 1, 1, 0, 1, 0, 1, 1, 1, 1, 0, 1, 1, 1, 0, 1, 0, 1, 1, 0, 1, 0, 0, 1, 1, 1, 1, 1, 1, 0, 1, 0, 1, 1, 0, 1, 0, 0, 0, 0, 0, 0, 1, 0, 1, 1, 0, 1, 0, 0, 0, 0, 1, 0, 0, 0, 0, 1, 0, 1] Objective: (50.0,)\n",
      "Child 2: [1, 0, 0, 0, 1, 1, 1, 1, 1, 1, 0, 0, 0, 1, 1, 0, 1, 0, 0, 0, 0, 1, 0, 1, 0, 1, 1, 1, 0, 1, 1, 0, 1, 0, 1, 0, 0, 1, 0, 1, 0, 0, 1, 0, 0, 1, 1, 1, 1, 1, 1, 0, 1, 1, 0, 1, 1, 1, 0, 1, 0, 0, 0, 0, 0, 0, 0, 1, 1, 0, 0, 0, 0, 0, 1, 1, 0, 1, 1, 1, 1, 1, 1, 1, 1, 1, 0, 1, 1, 1, 0, 1, 0, 0, 0, 0, 0, 1, 1, 0] Objective: (53.0,)\n",
      "Child 1: [1, 1, 1, 0, 0, 0, 0, 1, 1, 0, 0, 0, 0, 0, 1, 1, 1, 1, 1, 1, 1, 0, 1, 0, 0, 0, 0, 0, 0, 1, 0, 1, 1, 0, 1, 0, 0, 1, 1, 0, 0, 1, 1, 0, 0, 1, 1, 1, 1, 1, 1, 0, 1, 1, 0, 1, 1, 1, 0, 1, 0, 0, 0, 0, 1, 1, 1, 1, 1, 0, 1, 0, 1, 1, 0, 1, 0, 0, 0, 0, 0, 0, 1, 0, 1, 1, 0, 1, 0, 0, 0, 0, 1, 0, 0, 0, 0, 1, 0, 1] Objective: (49.0,)\n",
      "Child 2: [1, 0, 0, 0, 1, 1, 1, 1, 1, 1, 0, 0, 0, 1, 1, 0, 1, 0, 0, 0, 0, 1, 0, 1, 0, 1, 1, 1, 0, 1, 1, 0, 1, 0, 1, 0, 0, 1, 0, 1, 0, 0, 1, 0, 1, 0, 1, 1, 1, 1, 0, 1, 1, 1, 0, 1, 0, 1, 1, 0, 1, 0, 0, 1, 0, 0, 0, 1, 1, 0, 0, 0, 0, 0, 1, 1, 0, 1, 1, 1, 1, 1, 1, 1, 1, 1, 0, 1, 1, 1, 0, 1, 0, 0, 0, 0, 0, 1, 1, 0] Objective: (54.0,)\n"
     ]
    }
   ],
   "source": [
    "print('Child 1:', population_1[0], 'Objective:', evalOneMax(population_1[0]))\n",
    "print('Child 2:', population_1[1], 'Objective:', evalOneMax(population_1[1]))\n",
    "\n",
    "child_1, child_2 = tools.cxTwoPoint(toolbox.clone(population_1[0]), toolbox.clone(population_1[1]))\n",
    "\n",
    "print('Child 1:', child_1, 'Objective:', evalOneMax(child_1))\n",
    "print('Child 2:', child_2, 'Objective:', evalOneMax(child_2))"
   ]
  },
  {
   "cell_type": "code",
   "execution_count": 25,
   "id": "1222f86d",
   "metadata": {},
   "outputs": [
    {
     "name": "stdout",
     "output_type": "stream",
     "text": [
      "Differences: [0, 0, 0, 0, 0, 0, 0, 0, 0, 0, 0, 0, 0, 0, 0, 0, 0, 0, 0, 0, 0, 0, 0, 0, 0, 0, 0, 0, 0, 0, 0, 0, 0, 0, 0, 0, 0, 0, 0, 0, 0, 0, 0, 0, 1, -1, 0, 0, 0, 0, -1, 1, 0, 0, 0, 0, -1, 0, 1, -1, 1, 0, 0, 1, 0, 0, 0, 0, 0, 0, 0, 0, 0, 0, 0, 0, 0, 0, 0, 0, 0, 0, 0, 0, 0, 0, 0, 0, 0, 0, 0, 0, 0, 0, 0, 0, 0, 0, 0, 0]\n"
     ]
    }
   ],
   "source": [
    "print('Differences:', [elem1-elem2 for elem1, elem2 in zip(population_1[0], child_1)])"
   ]
  },
  {
   "cell_type": "markdown",
   "id": "802b6eb0",
   "metadata": {},
   "source": [
    "differences = []\n",
    "for elem1, elem2 in zip(population_1[0], child_1):\n",
    "    differences.append(elem1-elem2)\n",
    "    \n",
    "print(differences)"
   ]
  },
  {
   "cell_type": "code",
   "execution_count": 31,
   "id": "a8ba0c6a",
   "metadata": {
    "scrolled": true
   },
   "outputs": [
    {
     "name": "stdout",
     "output_type": "stream",
     "text": [
      "Mutant 1: [1, 1, 1, 0, 0, 0, 0, 1, 1, 0, 0, 0, 0, 0, 1, 1, 1, 1, 1, 1, 1, 0, 1, 0, 0, 0, 0, 0, 0, 1, 0, 1, 1, 0, 1, 0, 0, 1, 1, 0, 0, 1, 1, 0, 0, 1, 1, 1, 1, 1, 1, 0, 1, 1, 0, 1, 1, 1, 0, 1, 0, 0, 0, 0, 1, 1, 1, 1, 1, 0, 1, 0, 1, 1, 1, 1, 0, 0, 0, 1, 0, 1, 1, 0, 1, 1, 0, 1, 0, 0, 0, 0, 1, 0, 0, 0, 0, 1, 0, 1] Objective: (52.0,)\n",
      "Differences: [0, 0, 0, 0, 0, 0, 0, 0, 0, 0, 0, 0, 0, 0, 0, 0, 0, 0, 0, 0, 0, 0, 0, 0, 0, 0, 0, 0, 0, 0, 0, 0, 0, 0, 0, 0, 0, 0, 0, 0, 0, 0, 0, 0, 0, 0, 0, 0, 0, 0, 0, 0, 0, 0, 0, 0, 0, 0, 0, 0, 0, 0, 0, 0, 0, 0, 0, 0, 0, 0, 0, 0, 0, 0, -1, 0, 0, 0, 0, -1, 0, -1, 0, 0, 0, 0, 0, 0, 0, 0, 0, 0, 0, 0, 0, 0, 0, 0, 0, 0]\n",
      "3\n"
     ]
    }
   ],
   "source": [
    "mutant_1, = tools.mutFlipBit(toolbox.clone(child_1), indpb=0.05)\n",
    "print('Mutant 1:', mutant_1, 'Objective:', evalOneMax(mutant_1))\n",
    "print('Differences:', [elem1-elem2 for elem1, elem2 in zip(child_1, mutant_1)])\n",
    "print(sum([abs(elem1-elem2) for elem1, elem2 in zip(child_1, mutant_1)]))"
   ]
  }
 ],
 "metadata": {
  "kernelspec": {
   "display_name": "Python 3 (ipykernel)",
   "language": "python",
   "name": "python3"
  },
  "language_info": {
   "codemirror_mode": {
    "name": "ipython",
    "version": 3
   },
   "file_extension": ".py",
   "mimetype": "text/x-python",
   "name": "python",
   "nbconvert_exporter": "python",
   "pygments_lexer": "ipython3",
   "version": "3.9.7"
  }
 },
 "nbformat": 4,
 "nbformat_minor": 5
}
